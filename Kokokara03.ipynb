{
 "metadata": {
  "language_info": {
   "codemirror_mode": {
    "name": "ipython",
    "version": 3
   },
   "file_extension": ".py",
   "mimetype": "text/x-python",
   "name": "python",
   "nbconvert_exporter": "python",
   "pygments_lexer": "ipython3",
   "version": "3.8.3-final"
  },
  "orig_nbformat": 2,
  "kernelspec": {
   "name": "python3",
   "display_name": "Python 3",
   "language": "python"
  }
 },
 "nbformat": 4,
 "nbformat_minor": 2,
 "cells": [
  {
   "cell_type": "code",
   "execution_count": 1,
   "metadata": {},
   "outputs": [],
   "source": [
    "#企業情報の重複削除"
   ]
  },
  {
   "cell_type": "code",
   "execution_count": 2,
   "metadata": {},
   "outputs": [],
   "source": [
    "import csv\n",
    "import pandas as pd"
   ]
  },
  {
   "cell_type": "code",
   "execution_count": 3,
   "metadata": {},
   "outputs": [
    {
     "output_type": "stream",
     "name": "stdout",
     "text": [
      "     corporateNumber uqOperatorCode            name          nameKana  \\\nid                                                                      \n5419   6430001062503          (未登録)  ジ－エス・サイエンス株式会社        ジーエス・サイエンス   \n2559   5430001061588          (未登録)     株式会社デービスアクト           デービスアクト   \n5332   7460001004658          (未登録)    株式会社プロフォーマンス          プロフォーマンス   \n7222   4430003010940          (未登録)        合同会社トーカイ              トーカイ   \n8141   4430001070887          (未登録)          株式会社一鐵              イッテツ   \n...              ...            ...             ...               ...   \n8222   9360001025357          (未登録)        大成企業株式会社  タイセイキギョウカブシキガイシャ   \n8222   9360001025357          (未登録)        大成企業株式会社  タイセイキギョウカブシキガイシャ   \n8406   3360001025552          (未登録)        株式会社セイコー              セイコー   \n7793   4360001024264          (未登録)      ちゅらら工房株式会社          チュララコウボウ   \n7641   1360001025884          (未登録)    株式会社タイズリフォーム          タイズリフォーム   \n\n      location_postalCode  location_prefectureCode  location_cityCode  \\\nid                                                                      \n5419                30026                        1                104   \n2559               600061                        1                101   \n5332               850063                        1                206   \n7222               650024                        1                103   \n8141               470039                        1                203   \n...                   ...                      ...                ...   \n8222              9030117                       47                329   \n8222              9030117                       47                329   \n8406              9012211                       47                205   \n7793              9030104                       47                329   \n7641              9011303                       47                348   \n\n            location_address contact_phoneNumber contact_faxNumber  ...  \\\nid                                                                  ...   \n5419   北海道札幌市白石区本通１３丁目南６番１７号        011-868-5188      011-868-5187  ...   \n2559   北海道札幌市中央区南一条西８丁目１０番地３        011-241-6029      011-222-0295  ...   \n5332         北海道釧路市文苑１丁目９番２号        0154-35-3563      0154-35-3563  ...   \n7222  北海道札幌市東区北二十四条東１６丁目３番３号        011-769-0196             (非公開)  ...   \n8141           北海道小樽市錦町１６番７号        0134-64-1831      0134-64-1812  ...   \n...                      ...                 ...               ...  ...   \n8222      沖縄県中頭郡西原町字翁長５５８番地２        098-943-8511      098-943-8522  ...   \n8222      沖縄県中頭郡西原町字翁長５５８番地２        098-943-8511      098-943-8522  ...   \n8406     沖縄県宜野湾市宜野湾３丁目１９番３７号        098-943-5172      098-943-5179  ...   \n7793     沖縄県中頭郡西原町字兼久２６１番地の２        098-945-7170      098-963-4110  ...   \n7641    沖縄県島尻郡与那原町字与那原１１１８番地        098-975-7815      098-975-7816  ...   \n\n     services228 services229 services230 services231 services232 services233  \\\nid                                                                             \n5419           0           0           0           0           0           0   \n2559           0           0           0           0           0           0   \n5332           0           0           0           0           0           0   \n7222           0           0           0           0           0           0   \n8141           0           0           0           0           0           0   \n...          ...         ...         ...         ...         ...         ...   \n8222           0           0           0           0           0           0   \n8222           0           0           0           0           0           0   \n8406           0           0           0           0           0           0   \n7793           0           0           0           0           0           0   \n7641           0           0           0           0           0           0   \n\n     services234  services235  services236 services237  \nid                                                      \n5419           0            0            0           0  \n2559           0            0            0           0  \n5332           0            0            0           0  \n7222           0            0            0           0  \n8141           0            0            0           0  \n...          ...          ...          ...         ...  \n8222           0            0            0           0  \n8222           0            0            0           0  \n8406           0            0            0           0  \n7793           0            0            0           0  \n7641           0            0            0           0  \n\n[15325 rows x 304 columns]\nIndex(['corporateNumber', 'uqOperatorCode', 'name', 'nameKana',\n       'location_postalCode', 'location_prefectureCode', 'location_cityCode',\n       'location_address', 'contact_phoneNumber', 'contact_faxNumber',\n       ...\n       'services228', 'services229', 'services230', 'services231',\n       'services232', 'services233', 'services234', 'services235',\n       'services236', 'services237'],\n      dtype='object', length=304)\n"
     ]
    }
   ],
   "source": [
    "df = pd.read_csv('./Kokokara_all.csv', header=0, index_col=0)\n",
    "print(df)\n",
    "print(df.columns)"
   ]
  },
  {
   "cell_type": "code",
   "execution_count": 4,
   "metadata": {},
   "outputs": [
    {
     "output_type": "stream",
     "name": "stdout",
     "text": [
      "     corporateNumber uqOperatorCode            name          nameKana  \\\nid                                                                      \n5419   6430001062503          (未登録)  ジ－エス・サイエンス株式会社        ジーエス・サイエンス   \n2559   5430001061588          (未登録)     株式会社デービスアクト           デービスアクト   \n5332   7460001004658          (未登録)    株式会社プロフォーマンス          プロフォーマンス   \n7222   4430003010940          (未登録)        合同会社トーカイ              トーカイ   \n8141   4430001070887          (未登録)          株式会社一鐵              イッテツ   \n...              ...            ...             ...               ...   \n3434   4360001014760          (未登録)       株式会社りっち開発           リッチカイハツ   \n8156   7360001020517          (未登録)       株式会社サクラ電工           サクラデンコウ   \n8222   9360001025357          (未登録)        大成企業株式会社  タイセイキギョウカブシキガイシャ   \n6065   8360001018337          (未登録)         株式会社結電気             ユイデンキ   \n7641   1360001025884          (未登録)    株式会社タイズリフォーム          タイズリフォーム   \n\n      location_postalCode  location_prefectureCode  location_cityCode  \\\nid                                                                      \n5419                30026                        1                104   \n2559               600061                        1                101   \n5332               850063                        1                206   \n7222               650024                        1                103   \n8141               470039                        1                203   \n...                   ...                      ...                ...   \n3434              9042172                       47                211   \n8156              9042156                       47                211   \n8222              9030117                       47                329   \n6065              9042143                       47                211   \n7641              9011303                       47                348   \n\n            location_address contact_phoneNumber contact_faxNumber  ...  \\\nid                                                                  ...   \n5419   北海道札幌市白石区本通１３丁目南６番１７号        011-868-5188      011-868-5187  ...   \n2559   北海道札幌市中央区南一条西８丁目１０番地３        011-241-6029      011-222-0295  ...   \n5332         北海道釧路市文苑１丁目９番２号        0154-35-3563      0154-35-3563  ...   \n7222  北海道札幌市東区北二十四条東１６丁目３番３号        011-769-0196             (非公開)  ...   \n8141           北海道小樽市錦町１６番７号        0134-64-1831      0134-64-1812  ...   \n...                      ...                 ...               ...  ...   \n3434         沖縄県沖縄市泡瀬２丁目１番２号        098-975-6540      098-975-6541  ...   \n8156     沖縄県沖縄市美里仲原町２９番１４号Ｃ号        098-979-9970      098-989-8452  ...   \n8222      沖縄県中頭郡西原町字翁長５５８番地２        098-943-8511      098-943-8522  ...   \n6065        沖縄県沖縄市知花６丁目４番１９号        098-989-6551      098-989-6516  ...   \n7641    沖縄県島尻郡与那原町字与那原１１１８番地        098-975-7815      098-975-7816  ...   \n\n     services228 services229 services230 services231 services232 services233  \\\nid                                                                             \n5419           0           0           0           0           0           0   \n2559           0           0           0           0           0           0   \n5332           0           0           0           0           0           0   \n7222           0           0           0           0           0           0   \n8141           0           0           0           0           0           0   \n...          ...         ...         ...         ...         ...         ...   \n3434           0           0           0           0           0           0   \n8156           0           0           0           0           0           0   \n8222           0           0           0           0           0           0   \n6065           0           0           0           0           0           0   \n7641           0           0           0           0           0           0   \n\n     services234  services235  services236 services237  \nid                                                      \n5419           0            0            0           0  \n2559           0            0            0           0  \n5332           0            0            0           0  \n7222           0            0            0           0  \n8141           0            0            0           0  \n...          ...          ...          ...         ...  \n3434           0            0            0           0  \n8156           0            0            0           0  \n8222           0            0            0           0  \n6065           0            0            0           0  \n7641           0            0            0           0  \n\n[4243 rows x 304 columns]\n"
     ]
    }
   ],
   "source": [
    "print(df.drop_duplicates())"
   ]
  },
  {
   "cell_type": "code",
   "execution_count": 5,
   "metadata": {},
   "outputs": [],
   "source": [
    "df.drop_duplicates().to_csv('./Kokokara_uniq.csv', encoding='utf_8_sig')#csv保存"
   ]
  },
  {
   "cell_type": "code",
   "execution_count": null,
   "metadata": {},
   "outputs": [],
   "source": []
  }
 ]
}